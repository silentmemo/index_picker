{
 "metadata": {
  "language_info": {
   "codemirror_mode": {
    "name": "ipython",
    "version": 3
   },
   "file_extension": ".py",
   "mimetype": "text/x-python",
   "name": "python",
   "nbconvert_exporter": "python",
   "pygments_lexer": "ipython3",
   "version": "3.7.4-final"
  },
  "orig_nbformat": 2,
  "kernelspec": {
   "name": "python374jvsc74a57bd0eb59376e83bd23730328a1a48b4c7d1e187823ee41caff7c9a129f90a837e5f2",
   "display_name": "Python 3.7.4 64-bit (conda)"
  }
 },
 "nbformat": 4,
 "nbformat_minor": 2,
 "cells": [
  {
   "cell_type": "code",
   "execution_count": 3,
   "metadata": {},
   "outputs": [
    {
     "output_type": "stream",
     "name": "stdout",
     "text": [
      "Picking indexes\nLoading available index form :  CD_index.txt\nLoading chosen index form :  chosen_indexes.txt\n      A     T     C     G\n0  0.05  0.50  0.30  0.15\n1  0.45  0.05  0.20  0.30\n2  0.35  0.30  0.15  0.20\n3  0.35  0.15  0.10  0.40\n4  0.05  0.05  0.45  0.45\n5  0.25  0.25  0.35  0.15\n6  0.30  0.10  0.15  0.45\n7  0.35  0.15  0.15  0.35\n"
     ]
    },
    {
     "output_type": "display_data",
     "data": {
      "text/plain": "<Figure size 432x288 with 1 Axes>",
      "image/png": "[encoded data removed]"
     },
     "metadata": {
      "needs_background": "light"
     }
    }
   ],
   "source": [
    "import sys \n",
    "import pandas as pd\n",
    "import matplotlib.pyplot as plt\n",
    "### using the index below for development, will use dual combinatorial index\n",
    "\n",
    "def load_all_index(filepath):\n",
    "    print(\"Loading available index form : \",filepath)\n",
    "    ### build a dictionary of available index by pandas df, then to dict\n",
    "    index_dict = pd.read_csv(filepath,sep=\"\\t\").to_dict(orient= 'index')\n",
    "    return index_dict\n",
    "\n",
    "def load_chosen_index(filepath):\n",
    "    print(\"Loading chosen index form : \",filepath)\n",
    "    ### build a dictionary of available index by pandas df, then to dict\n",
    "    index_dict = pd.read_csv(filepath,sep=\"\\t\").to_dict(orient= 'index')\n",
    "    return index_dict\n",
    "\n",
    "def get_sequence_from_dict_to_list(inputDict,field_name):\n",
    "    outputList = []\n",
    "    for item in inputDict:\n",
    "        # print(inputDict[item].get(\"Weight\"))\n",
    "        outputList.append((inputDict[item].get(field_name),float(inputDict[item].get(\"Weight\"))))\n",
    "    return outputList\n",
    "    # return outputList\n",
    "def get_sequence_length(inputSeq):\n",
    "    return len(inputSeq)\n",
    "def get_base_composition(inputList):\n",
    "    ### expecting a list of tuples of valid sequence\n",
    "    #### take the first item of the input list to tell the length of the sequence\n",
    "    seq_length = get_sequence_length(inputList[0][0])\n",
    "    # print(seq_length)\n",
    "    #### goal is to get a per position matrix of base distribution, store that in a dictionary \n",
    "    string_composition_list =[]\n",
    "    \n",
    "    for base in range(seq_length):\n",
    "        position_composition_dict = {\"A\":0, \"T\":0,\"C\": 0, \"G\":0}\n",
    "        for idx,item in enumerate(inputList):\n",
    "            sequence = item[0]\n",
    "            weight = item[1]\n",
    "            position_composition_dict[sequence[base]] = position_composition_dict[sequence[base]] + weight\n",
    "        string_composition_list.append(position_composition_dict)\n",
    "    return string_composition_list\n",
    "def main():\n",
    "\n",
    "    print(\"Picking indexes\")\n",
    "    # ava_index_dict = load_all_index(sys.argv[1])\n",
    "    ava_index_dict = load_all_index(\"CD_index.txt\")\n",
    "    # chosen_index_dict = load_chosen_index(sys.argv[2])\n",
    "    chosen_index_dict = load_chosen_index(\"chosen_indexes.txt\")\n",
    "    chosen_I7_seq_list = get_sequence_from_dict_to_list(chosen_index_dict,\"I7_sequence\")\n",
    "    chosen_I5_seq_list = get_sequence_from_dict_to_list(chosen_index_dict,\"I5_sequence\")\n",
    "    # print(chosen_I7_seq_list,chosen_I5_seq_list)\n",
    "    ### get the base composition from chosen indexes\n",
    "    I7_base_composition = get_base_composition(chosen_I7_seq_list)\n",
    "    I5_base_composition = get_base_composition(chosen_I5_seq_list)\n",
    "    I7_df  = pd.DataFrame(I7_base_composition)\n",
    "    print(I7_df)\n",
    "    I7_df.plot(kind=\"bar\", stacked=True)\n",
    "    \n",
    "main()\n"
   ]
  },
  {
   "cell_type": "code",
   "execution_count": null,
   "metadata": {},
   "outputs": [],
   "source": []
  }
 ]
}